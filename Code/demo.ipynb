{
 "cells": [
  {
   "cell_type": "code",
   "execution_count": 2,
   "metadata": {},
   "outputs": [
    {
     "name": "stderr",
     "output_type": "stream",
     "text": [
      "/home/anand/clones/devol/example/devol/devol.py:189: SyntaxWarning: \"is\" with a literal. Did you mean \"==\"?\n",
      "  if (self._bssf is -1 or\n",
      "/home/anand/clones/devol/example/devol/devol.py:191: SyntaxWarning: \"is not\" with a literal. Did you mean \"!=\"?\n",
      "  accuracy is not 0):\n",
      "/home/anand/clones/devol/example/devol/genome_handler.py:241: SyntaxWarning: \"is\" with a literal. Did you mean \"==\"?\n",
      "  best = max if metric is \"accuracy\" else min\n",
      "/home/anand/clones/devol/example/devol/genome_handler.py:242: SyntaxWarning: \"is\" with a literal. Did you mean \"==\"?\n",
      "  col = -1 if metric is \"accuracy\" else -2\n"
     ]
    }
   ],
   "source": [
    "from keras.datasets import mnist\n",
    "from keras.utils.np_utils import to_categorical\n",
    "import numpy as np\n",
    "from keras import backend as K\n",
    "from devol import DEvol, GenomeHandler"
   ]
  },
  {
   "cell_type": "markdown",
   "metadata": {},
   "source": [
    "### Prepare dataset\n",
    "This problem uses mnist, a handwritten digit classification problem used for many introductory deep learning examples. Here, we load the data and prepare it for use by the GPU. We also do a one-hot encoding of the labels."
   ]
  },
  {
   "cell_type": "code",
   "execution_count": 3,
   "metadata": {},
   "outputs": [],
   "source": [
    "(x_train, y_train), (x_test, y_test) = mnist.load_data()"
   ]
  },
  {
   "cell_type": "code",
   "execution_count": 4,
   "metadata": {},
   "outputs": [],
   "source": [
    "K.set_image_data_format(\"channels_last\")\n",
    "\n",
    "x_train = x_train.reshape(x_train.shape[0], 28, 28, 1).astype('float32') / 255\n",
    "x_test = x_test.reshape(x_test.shape[0], 28, 28, 1).astype('float32') / 255\n",
    "y_train = to_categorical(y_train)\n",
    "y_test = to_categorical(y_test)\n",
    "dataset = ((x_train, y_train), (x_test, y_test))"
   ]
  },
  {
   "cell_type": "markdown",
   "metadata": {},
   "source": [
    "### Prepare the genome configuration\n",
    "The `GenomeHandler` class handles the constraints that are imposed upon models in a particular genetic program. In this example, a genome is allowed **up to** 6 convolutional layeres, 3 dense layers, 256 feature maps in each convolution, and 1024 nodes in each dense layer. It also specifies three possible activation functions. See `genome-handler.py` for more information."
   ]
  },
  {
   "cell_type": "code",
   "execution_count": 5,
   "metadata": {},
   "outputs": [],
   "source": [
    "genome_handler = GenomeHandler(max_conv_layers=6, \n",
    "                               max_dense_layers=2, # includes final dense layer\n",
    "                               max_filters=256,\n",
    "                               max_dense_nodes=1024,\n",
    "                               input_shape=x_train.shape[1:],\n",
    "                               n_classes=10)"
   ]
  },
  {
   "cell_type": "markdown",
   "metadata": {},
   "source": [
    "### Create and run the genetic program\n",
    "The next, and final, step is create a `DEvol` and run it. Here we specify a few settings pertaining to the genetic program. In this example, we have 10 generations of evolution, 20 members in each population, and 3 epochs of training used to evaluate each model's fitness. The program will save each genome's encoding, as well as the model's loss and accuracy, in a `.csv` file printed at the beginning of program."
   ]
  },
  {
   "cell_type": "code",
   "execution_count": null,
   "metadata": {
    "scrolled": false
   },
   "outputs": [
    {
     "name": "stdout",
     "output_type": "stream",
     "text": [
      "Genome encoding and metric data stored at Mon Nov  9 10:34:32 2020.csv \n",
      "\n",
      "\n",
      "model 1/20 - generation 1/20:\n",
      "\n",
      "Epoch 1/5\n",
      "1688/1688 [==============================] - 154s 91ms/step - loss: 2.6541 - accuracy: 0.0951 - val_loss: 2.3089 - val_accuracy: 0.0992\n",
      "Epoch 2/5\n",
      "1688/1688 [==============================] - 177s 105ms/step - loss: 2.3057 - accuracy: 0.1027 - val_loss: 2.3021 - val_accuracy: 0.1050\n",
      "Epoch 3/5\n",
      "1688/1688 [==============================] - 171s 101ms/step - loss: 2.3034 - accuracy: 0.1070 - val_loss: 2.3019 - val_accuracy: 0.1050\n",
      "Epoch 4/5\n",
      "1688/1688 [==============================] - 156s 93ms/step - loss: 2.3025 - accuracy: 0.1101 - val_loss: 2.3017 - val_accuracy: 0.1050\n",
      "Epoch 5/5\n",
      "1688/1688 [==============================] - 159s 94ms/step - loss: 2.3023 - accuracy: 0.1102 - val_loss: 2.3016 - val_accuracy: 0.1050\n",
      "\n",
      "model 2/20 - generation 1/20:\n",
      "\n",
      "Epoch 1/5\n",
      "1688/1688 [==============================] - 898s 532ms/step - loss: 1.1709 - accuracy: 0.6577 - val_loss: 0.4956 - val_accuracy: 0.8952\n",
      "Epoch 2/5\n",
      "1688/1688 [==============================] - 971s 575ms/step - loss: 0.4230 - accuracy: 0.8889 - val_loss: 0.2598 - val_accuracy: 0.9477\n",
      "Epoch 3/5\n",
      "1533/1688 [==========================>...] - ETA: 1:42 - loss: 0.2837 - accuracy: 0.9228"
     ]
    }
   ],
   "source": [
    "devol = DEvol(genome_handler)\n",
    "model = devol.run(dataset=dataset,\n",
    "                  num_generations=20,\n",
    "                  pop_size=20,\n",
    "                  epochs=5)\n",
    "model.summary()"
   ]
  },
  {
   "cell_type": "code",
   "execution_count": null,
   "metadata": {},
   "outputs": [],
   "source": []
  }
 ],
 "metadata": {
  "anaconda-cloud": {},
  "kernelspec": {
   "display_name": "Python 3",
   "language": "python",
   "name": "python3"
  },
  "language_info": {
   "codemirror_mode": {
    "name": "ipython",
    "version": 3
   },
   "file_extension": ".py",
   "mimetype": "text/x-python",
   "name": "python",
   "nbconvert_exporter": "python",
   "pygments_lexer": "ipython3",
   "version": "3.8.5"
  }
 },
 "nbformat": 4,
 "nbformat_minor": 2
}
